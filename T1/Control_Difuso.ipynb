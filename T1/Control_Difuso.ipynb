{
  "nbformat": 4,
  "nbformat_minor": 0,
  "metadata": {
    "colab": {
      "provenance": [],
      "authorship_tag": "ABX9TyN/0Vb9IqSk3NHByQ/3rXqU",
      "include_colab_link": true
    },
    "kernelspec": {
      "name": "python3",
      "display_name": "Python 3"
    },
    "language_info": {
      "name": "python"
    }
  },
  "cells": [
    {
      "cell_type": "markdown",
      "metadata": {
        "id": "view-in-github",
        "colab_type": "text"
      },
      "source": [
        "<a href=\"https://colab.research.google.com/github/Santiagoo27/Automatizaci-n-Y-Control/blob/main/T1/Control_Difuso.ipynb\" target=\"_parent\"><img src=\"https://colab.research.google.com/assets/colab-badge.svg\" alt=\"Open In Colab\"/></a>"
      ]
    },
    {
      "cell_type": "code",
      "execution_count": null,
      "metadata": {
        "colab": {
          "base_uri": "https://localhost:8080/"
        },
        "id": "UMLYkg0KKe8o",
        "outputId": "cb7f0fa9-0368-48c6-81b6-b48fd24f7bc6"
      },
      "outputs": [
        {
          "output_type": "stream",
          "name": "stdout",
          "text": [
            "Collecting scikit-fuzzy\n",
            "  Downloading scikit-fuzzy-0.4.2.tar.gz (993 kB)\n",
            "\u001b[2K     \u001b[90m━━━━━━━━━━━━━━━━━━━━━━━━━━━━━━━━━━━━━━━━\u001b[0m \u001b[32m994.0/994.0 kB\u001b[0m \u001b[31m12.0 MB/s\u001b[0m eta \u001b[36m0:00:00\u001b[0m\n",
            "\u001b[?25h  Preparing metadata (setup.py) ... \u001b[?25l\u001b[?25hdone\n",
            "Requirement already satisfied: numpy>=1.6.0 in /usr/local/lib/python3.10/dist-packages (from scikit-fuzzy) (1.23.5)\n",
            "Requirement already satisfied: scipy>=0.9.0 in /usr/local/lib/python3.10/dist-packages (from scikit-fuzzy) (1.11.3)\n",
            "Requirement already satisfied: networkx>=1.9.0 in /usr/local/lib/python3.10/dist-packages (from scikit-fuzzy) (3.2)\n",
            "Building wheels for collected packages: scikit-fuzzy\n",
            "  Building wheel for scikit-fuzzy (setup.py) ... \u001b[?25l\u001b[?25hdone\n",
            "  Created wheel for scikit-fuzzy: filename=scikit_fuzzy-0.4.2-py3-none-any.whl size=894079 sha256=2ebfa5cec51d209f89d49304504899a6f617fc695c66ca914922b6d40b366f28\n",
            "  Stored in directory: /root/.cache/pip/wheels/4f/86/1b/dfd97134a2c8313e519bcebd95d3fedc7be7944db022094bc8\n",
            "Successfully built scikit-fuzzy\n",
            "Installing collected packages: scikit-fuzzy\n",
            "Successfully installed scikit-fuzzy-0.4.2\n"
          ]
        }
      ],
      "source": [
        "!pip install scikit-fuzzy\n"
      ]
    },
    {
      "cell_type": "code",
      "source": [
        "import numpy as np\n",
        "import skfuzzy as fuzz\n",
        "from skfuzzy import control as ctrl\n",
        "\n",
        "# Crear variables de entrada y salida difusa\n",
        "ahorro = ctrl.Antecedent(np.arange(0, 60000001, 1), 'ahorro')\n",
        "salario = ctrl.Antecedent(np.arange(0, 16000001, 1), 'salario')\n",
        "probabilidad_preferencial = ctrl.Consequent(np.arange(0, 101, 1), 'probabilidad_preferencial')\n",
        "\n",
        "\n",
        "# Definir funciones de membresía para las variables de entrada y salida\n",
        "ahorro['muy bajo'] = fuzz.trimf(ahorro.universe, [0, 0, 15000000])\n",
        "ahorro['bajo'] = fuzz.trimf(ahorro.universe, [10000000, 15000000, 29000000])\n",
        "ahorro['medio'] = fuzz.trimf(ahorro.universe, [20000000, 30000000, 45000000])\n",
        "ahorro['alto'] = fuzz.trapmf(ahorro.universe, [41000000, 45000000, 60000000, 60000000])\n",
        "\n",
        "salario['muy bajo'] = fuzz.trimf(salario.universe, [0, 0, 3000000])\n",
        "salario['bajo'] = fuzz.trimf(salario.universe, [2500000, 4000000, 8000000])\n",
        "salario['medio'] = fuzz.trimf(salario.universe, [6000000, 8000000, 12000000])\n",
        "salario['alto'] = fuzz.trapmf(salario.universe, [8000000, 12000000, 15000000, 15000000])\n",
        "\n",
        "\n",
        "probabilidad_preferencial['muy baja'] = fuzz.trimf(probabilidad_preferencial.universe, [0, 0, 20])\n",
        "probabilidad_preferencial['baja'] = fuzz.trimf(probabilidad_preferencial.universe, [0, 25, 50])\n",
        "probabilidad_preferencial['media'] = fuzz.trimf(probabilidad_preferencial.universe, [25, 50, 75])\n",
        "probabilidad_preferencial['alta'] = fuzz.trapmf(probabilidad_preferencial.universe, [73, 100, 100,100])\n",
        "\n",
        "# Definir reglas difusas\n",
        "regla11 = ctrl.Rule(ahorro['muy bajo'] & salario['muy bajo'], probabilidad_preferencial['muy baja'])\n",
        "regla12 = ctrl.Rule(ahorro['muy bajo'] & salario['bajo'], probabilidad_preferencial['muy baja'])\n",
        "regla13 = ctrl.Rule(ahorro['muy bajo'] & salario['medio'], probabilidad_preferencial['muy baja'])\n",
        "regla14 = ctrl.Rule(ahorro['muy bajo'] & salario['alto'], probabilidad_preferencial['baja'])\n",
        "regla21 = ctrl.Rule(ahorro['bajo'] & salario['muy bajo'], probabilidad_preferencial['muy baja'])\n",
        "regla22 = ctrl.Rule(ahorro['bajo'] & salario['bajo'], probabilidad_preferencial['muy baja'])\n",
        "regla23 = ctrl.Rule(ahorro['bajo'] & salario['medio'], probabilidad_preferencial['baja'])\n",
        "regla24 = ctrl.Rule(ahorro['bajo'] & salario['alto'], probabilidad_preferencial['baja'])\n",
        "regla31 = ctrl.Rule(ahorro['medio'] & salario['muy bajo'], probabilidad_preferencial['muy baja'])\n",
        "regla32 = ctrl.Rule(ahorro['medio'] & salario['bajo'], probabilidad_preferencial['baja'])\n",
        "regla33 = ctrl.Rule(ahorro['medio'] & salario['medio'], probabilidad_preferencial['media'])\n",
        "regla34 = ctrl.Rule(ahorro['medio'] & salario['alto'], probabilidad_preferencial['alta'])\n",
        "regla41 = ctrl.Rule(ahorro['alto'] & salario['muy bajo'], probabilidad_preferencial['muy baja'])\n",
        "regla42 = ctrl.Rule(ahorro['alto'] & salario['bajo'], probabilidad_preferencial['media'])\n",
        "regla43 = ctrl.Rule(ahorro['alto'] & salario['medio'], probabilidad_preferencial['alta'])\n",
        "regla44 = ctrl.Rule(ahorro['alto'] & salario['alto'], probabilidad_preferencial['alta'])\n",
        "\n",
        "# Crear el sistema de control difuso\n",
        "sistema_control = ctrl.ControlSystem([regla11, regla12, regla13, regla14, regla21, regla22, regla23, regla24, regla31, regla32, regla33, regla34, regla41, regla42, regla43, regla44])\n",
        "controlador = ctrl.ControlSystemSimulation(sistema_control)\n",
        "\n",
        "# Ingresar valores de ahorro y salario y calcular la probabilidad de ser un cliente preferencial\n",
        "controlador.input['ahorro'] = 500000000 # Ejemplo de cantidad de ahorro\n",
        "controlador.input['salario'] = 15000000  # Ejemplo de salario\n",
        "\n",
        "# Calcular la probabilidad de ser un cliente preferencial\n",
        "controlador.compute()\n",
        "\n",
        "# Obtener el resultado\n",
        "print(\"Probabilidad de ser un cliente preferencial:\", controlador.output['probabilidad_preferencial'])"
      ],
      "metadata": {
        "colab": {
          "base_uri": "https://localhost:8080/"
        },
        "id": "Ld-cbAmLVjaA",
        "outputId": "daa85398-6dbf-424b-c7c1-6af04b54071c"
      },
      "execution_count": null,
      "outputs": [
        {
          "output_type": "stream",
          "name": "stdout",
          "text": [
            "Probabilidad de ser un cliente preferencial: 91.00000000000003\n"
          ]
        }
      ]
    }
  ]
}